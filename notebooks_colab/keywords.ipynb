{
 "cells": [
  {
   "cell_type": "markdown",
   "id": "62dff709",
   "metadata": {},
   "source": [
    "### Data Cleaning for Google Trends Keywords"
   ]
  },
  {
   "cell_type": "markdown",
   "id": "12db121c",
   "metadata": {},
   "source": [
    "##### Bringing in Google Trends Keyword data and cleaning it for later vizualisation"
   ]
  },
  {
   "cell_type": "markdown",
   "id": "045bb764",
   "metadata": {},
   "source": [
    "###### 11/02/2021 at 18:12 CEST"
   ]
  },
  {
   "cell_type": "code",
   "execution_count": null,
   "id": "b3bf816b",
   "metadata": {},
   "outputs": [],
   "source": [
    "# import necessary libraries\n",
    "import os\n",
    "import pandas as pd\n",
    "import numpy as np\n",
    "import pytrends as pytrend"
   ]
  },
  {
   "cell_type": "code",
   "execution_count": null,
   "id": "37228118",
   "metadata": {},
   "outputs": [],
   "source": [
    "# change working directory to a specified directory\n",
    "os.chdir('../')\n",
    "print(\"Directory Changes\")\n",
    "\n",
    "# Get current working directory\n",
    "cwd = os.getcwd()\n",
    "print(\"Current working directory is:\", cwd)"
   ]
  },
  {
   "cell_type": "code",
   "execution_count": null,
   "id": "2138fb19",
   "metadata": {},
   "outputs": [],
   "source": [
    "# https://www.honchosearch.com/blog/seo/how-to-use-python-pytrends-to-automate-google-trends-data/\n",
    "from pytrends.request import TrendReq\n",
    "import pandas as pd\n",
    "import time\n",
    "startTime = time.time()\n",
    "pytrend = TrendReq(hl='en-GB', tz=360)\n",
    "\n",
    "colnames = [\"keywords\"]\n",
    "df = pd.read_csv(\"keyword_list_jobs.csv\", names=colnames)\n",
    "df2 = df[\"keywords\"].values.tolist()\n",
    "df2.remove(\"Keywords\")\n",
    "\n",
    "dataset = []\n",
    "\n",
    "for x in range(0,len(df2)):\n",
    "     keywords = [df2[x]]\n",
    "     pytrend.build_payload(\n",
    "     kw_list=keywords,\n",
    "     cat=0,\n",
    "     timeframe='2017-01-01 2022-02-11',\n",
    "     geo='GB')\n",
    "     data = pytrend.interest_over_time()\n",
    "     if not data.empty:\n",
    "          data = data.drop(labels=['isPartial'],axis='columns')\n",
    "          dataset.append(data)\n",
    "\n",
    "result = pd.concat(dataset, axis=1)\n",
    "result.to_csv('search_trends_jobs.csv')\n",
    "\n",
    "executionTime = (time.time() - startTime)\n",
    "print('Execution time in sec.: ' + str(executionTime))"
   ]
  },
  {
   "cell_type": "code",
   "execution_count": null,
   "id": "a7ccb63a",
   "metadata": {},
   "outputs": [],
   "source": []
  },
  {
   "cell_type": "code",
   "execution_count": null,
   "id": "a230b970",
   "metadata": {},
   "outputs": [],
   "source": []
  }
 ],
 "metadata": {
  "kernelspec": {
   "display_name": "Python 3",
   "language": "python",
   "name": "python3"
  },
  "language_info": {
   "codemirror_mode": {
    "name": "ipython",
    "version": 3
   },
   "file_extension": ".py",
   "mimetype": "text/x-python",
   "name": "python",
   "nbconvert_exporter": "python",
   "pygments_lexer": "ipython3",
   "version": "3.7.3"
  }
 },
 "nbformat": 4,
 "nbformat_minor": 5
}
